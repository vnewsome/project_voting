{
  "nbformat": 4,
  "nbformat_minor": 0,
  "metadata": {
    "colab": {
      "provenance": [],
      "authorship_tag": "ABX9TyNY1Zs6RCLch2ollfzlWCZZ",
      "include_colab_link": true
    },
    "kernelspec": {
      "name": "python3",
      "display_name": "Python 3"
    },
    "language_info": {
      "name": "python"
    }
  },
  "cells": [
    {
      "cell_type": "markdown",
      "metadata": {
        "id": "view-in-github",
        "colab_type": "text"
      },
      "source": [
        "<a href=\"https://colab.research.google.com/github/vnewsome/project_voting/blob/main/ML_project3.ipynb\" target=\"_parent\"><img src=\"https://colab.research.google.com/assets/colab-badge.svg\" alt=\"Open In Colab\"/></a>"
      ]
    },
    {
      "cell_type": "code",
      "execution_count": null,
      "metadata": {
        "id": "NenX8d23Nw4q"
      },
      "outputs": [],
      "source": [
        "# Dear Students,\n",
        "\n",
        "# To make the choropleth/heat maps from the starter notebook, you have to do a couple of steps on Colab.\n",
        "\n",
        "# Before the first code chunk, run ! pip3 install mapclassify​ in a chunk. This will install an additional package that geopandas needs.\n",
        "# From the VA Dept of Emergency Management, get the shapefiles: https://vgin.vdem.virginia.gov/datasets/777890ecdb634d18a02eec604db522c6/about\n",
        "# From that archive, I uploaded the following files to Colab:\n",
        "# VirginiaCounty_ClippedToShoreline.cpg\n",
        "# VirginiaCounty_ClippedToShoreline.dbf\n",
        "# VirginiaCounty_ClippedToShoreline.prj\n",
        "# VirginiaCounty_ClippedToShoreline.shp\n",
        "# VirginiaCounty_ClippedToShoreline.shp.xml\n",
        "# VirginiaCounty_ClippedToShoreline.shx\n",
        "\n",
        "# Then the rest of the notebook runs.\n",
        "\n",
        "# The IPUMS data is in the github repo. What are these data? IPUMS is a microdata service that mostly distributes versions of the Census data and the American Community Survey, but also does a lot of international data. I downloaded a bunch of county level (NHGIS) data that looked interesting or promising. A lot of the files have similar data in each file, but they all have codebooks. You probably want to flip through a few and think about which have interesting covariates for predicting R vs D voting (e.g. education and education*race, income and income*race, etc.).\n",
        "\n",
        "# There is a link to FRED for macro data (inflation, unemployment, etc.) in the readme. You can build a model and then plug in projections for November. That's another interesting angle to follow up, if you're interested: Uncertainty driven by the uncertainty in macro projections for the next 6 months."
      ]
    }
  ]
}