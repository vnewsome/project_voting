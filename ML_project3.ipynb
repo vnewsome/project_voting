{
  "nbformat": 4,
  "nbformat_minor": 0,
  "metadata": {
    "colab": {
      "provenance": [],
      "authorship_tag": "ABX9TyOsvnKn5xHYUvVammq2XPha",
      "include_colab_link": true
    },
    "kernelspec": {
      "name": "python3",
      "display_name": "Python 3"
    },
    "language_info": {
      "name": "python"
    }
  },
  "cells": [
    {
      "cell_type": "markdown",
      "metadata": {
        "id": "view-in-github",
        "colab_type": "text"
      },
      "source": [
        "<a href=\"https://colab.research.google.com/github/vnewsome/project_voting/blob/main/ML_project3.ipynb\" target=\"_parent\"><img src=\"https://colab.research.google.com/assets/colab-badge.svg\" alt=\"Open In Colab\"/></a>"
      ]
    },
    {
      "cell_type": "markdown",
      "source": [
        "Summary"
      ],
      "metadata": {
        "id": "L8j2UgZmQDVI"
      }
    },
    {
      "cell_type": "markdown",
      "source": [
        "Data"
      ],
      "metadata": {
        "id": "nUXswYdfQQCo"
      }
    },
    {
      "cell_type": "code",
      "source": [
        "# ! pip3 install mapclassify\n",
        "# don't need to run again"
      ],
      "metadata": {
        "colab": {
          "base_uri": "https://localhost:8080/"
        },
        "id": "4Jghz-auOUxw",
        "outputId": "426b6059-7cd6-4bb4-fd0a-c846cc7caaf9"
      },
      "execution_count": 1,
      "outputs": [
        {
          "output_type": "stream",
          "name": "stdout",
          "text": [
            "Collecting mapclassify\n",
            "  Downloading mapclassify-2.6.1-py3-none-any.whl (38 kB)\n",
            "Requirement already satisfied: networkx>=2.7 in /usr/local/lib/python3.10/dist-packages (from mapclassify) (3.3)\n",
            "Requirement already satisfied: numpy>=1.23 in /usr/local/lib/python3.10/dist-packages (from mapclassify) (1.25.2)\n",
            "Requirement already satisfied: pandas!=1.5.0,>=1.4 in /usr/local/lib/python3.10/dist-packages (from mapclassify) (2.0.3)\n",
            "Requirement already satisfied: scikit-learn>=1.0 in /usr/local/lib/python3.10/dist-packages (from mapclassify) (1.2.2)\n",
            "Requirement already satisfied: scipy>=1.8 in /usr/local/lib/python3.10/dist-packages (from mapclassify) (1.11.4)\n",
            "Requirement already satisfied: python-dateutil>=2.8.2 in /usr/local/lib/python3.10/dist-packages (from pandas!=1.5.0,>=1.4->mapclassify) (2.8.2)\n",
            "Requirement already satisfied: pytz>=2020.1 in /usr/local/lib/python3.10/dist-packages (from pandas!=1.5.0,>=1.4->mapclassify) (2023.4)\n",
            "Requirement already satisfied: tzdata>=2022.1 in /usr/local/lib/python3.10/dist-packages (from pandas!=1.5.0,>=1.4->mapclassify) (2024.1)\n",
            "Requirement already satisfied: joblib>=1.1.1 in /usr/local/lib/python3.10/dist-packages (from scikit-learn>=1.0->mapclassify) (1.4.0)\n",
            "Requirement already satisfied: threadpoolctl>=2.0.0 in /usr/local/lib/python3.10/dist-packages (from scikit-learn>=1.0->mapclassify) (3.4.0)\n",
            "Requirement already satisfied: six>=1.5 in /usr/local/lib/python3.10/dist-packages (from python-dateutil>=2.8.2->pandas!=1.5.0,>=1.4->mapclassify) (1.16.0)\n",
            "Installing collected packages: mapclassify\n",
            "Successfully installed mapclassify-2.6.1\n"
          ]
        }
      ]
    },
    {
      "cell_type": "code",
      "source": [
        "! git clone https://github.com/vnewsome/project_voting"
      ],
      "metadata": {
        "colab": {
          "base_uri": "https://localhost:8080/"
        },
        "id": "c_eRQ54wO8fz",
        "outputId": "cdc88e27-e2cc-4100-e5ff-221b54ee133a"
      },
      "execution_count": 3,
      "outputs": [
        {
          "output_type": "stream",
          "name": "stdout",
          "text": [
            "Cloning into 'project_voting'...\n",
            "remote: Enumerating objects: 76, done.\u001b[K\n",
            "remote: Counting objects: 100% (13/13), done.\u001b[K\n",
            "remote: Compressing objects: 100% (12/12), done.\u001b[K\n",
            "remote: Total 76 (delta 3), reused 4 (delta 0), pack-reused 63\u001b[K\n",
            "Receiving objects: 100% (76/76), 31.37 MiB | 19.29 MiB/s, done.\n",
            "Resolving deltas: 100% (29/29), done.\n"
          ]
        }
      ]
    },
    {
      "cell_type": "code",
      "source": [
        "# packages\n",
        "import pandas as pd\n",
        "import numpy as np\n",
        "import matplotlib.pyplot as plt\n",
        "import seaborn as sns\n",
        "import mapclassify as mp"
      ],
      "metadata": {
        "id": "g9BcYKUxOK6e"
      },
      "execution_count": 2,
      "outputs": []
    },
    {
      "cell_type": "code",
      "source": [
        "# data loading"
      ],
      "metadata": {
        "id": "B6rIpYH1QfYb"
      },
      "execution_count": null,
      "outputs": []
    },
    {
      "cell_type": "code",
      "execution_count": null,
      "metadata": {
        "id": "NenX8d23Nw4q"
      },
      "outputs": [],
      "source": [
        "# From the VA Dept of Emergency Management, get the shapefiles: https://vgin.vdem.virginia.gov/datasets/777890ecdb634d18a02eec604db522c6/about\n",
        "# From that archive, I uploaded the following files to Colab:\n",
        "# VirginiaCounty_ClippedToShoreline.cpg\n",
        "# VirginiaCounty_ClippedToShoreline.dbf\n",
        "# VirginiaCounty_ClippedToShoreline.prj\n",
        "# VirginiaCounty_ClippedToShoreline.shp\n",
        "# VirginiaCounty_ClippedToShoreline.shp.xml\n",
        "# VirginiaCounty_ClippedToShoreline.shx\n",
        "\n",
        "# The IPUMS data is in the github repo. What are these data? IPUMS is a microdata service that mostly distributes versions of the Census data and the American Community Survey, but also does a lot of international data. I downloaded a bunch of county level (NHGIS) data that looked interesting or promising. A lot of the files have similar data in each file, but they all have codebooks. You probably want to flip through a few and think about which have interesting covariates for predicting R vs D voting (e.g. education and education*race, income and income*race, etc.).\n",
        "\n",
        "# There is a link to FRED for macro data (inflation, unemployment, etc.) in the readme. You can build a model and then plug in projections for November. That's another interesting angle to follow up, if you're interested: Uncertainty driven by the uncertainty in macro projections for the next 6 months."
      ]
    },
    {
      "cell_type": "markdown",
      "source": [
        "Results"
      ],
      "metadata": {
        "id": "nQ10jfJaQRYz"
      }
    },
    {
      "cell_type": "markdown",
      "source": [
        "Conclusion"
      ],
      "metadata": {
        "id": "ERpzSxY8QS9-"
      }
    },
    {
      "cell_type": "markdown",
      "source": [
        "Appendix"
      ],
      "metadata": {
        "id": "-r07qAS7QUyq"
      }
    }
  ]
}